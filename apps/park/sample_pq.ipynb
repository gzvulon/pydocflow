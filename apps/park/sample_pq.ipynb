{
 "cells": [
  {
   "cell_type": "code",
   "execution_count": 1,
   "metadata": {},
   "outputs": [],
   "source": [
    "# some examples"
   ]
  },
  {
   "cell_type": "code",
   "execution_count": 2,
   "metadata": {},
   "outputs": [],
   "source": [
    "import numpy as np\n",
    "import pandas as pd\n",
    "import pyarrow as pa\n",
    "\n"
   ]
  },
  {
   "cell_type": "code",
   "execution_count": 3,
   "metadata": {},
   "outputs": [],
   "source": [
    "df = pd.DataFrame(\n",
    "    {\n",
    "        'one': [-1, np.nan, 2.5],\n",
    "        'two': ['foo', 'bar', 'baz'],\n",
    "        'three': [True, False, True]\n",
    "    },\n",
    "    index=list('abc'))\n",
    "table = pa.Table.from_pandas(df)"
   ]
  },
  {
   "cell_type": "code",
   "execution_count": 4,
   "metadata": {},
   "outputs": [
    {
     "output_type": "execute_result",
     "data": {
      "text/plain": "pyarrow.Table\none: double\ntwo: string\nthree: bool\n__index_level_0__: string"
     },
     "metadata": {},
     "execution_count": 4
    }
   ],
   "source": [
    "table"
   ]
  },
  {
   "cell_type": "code",
   "execution_count": 5,
   "metadata": {
    "tags": []
   },
   "outputs": [
    {
     "output_type": "stream",
     "name": "stdout",
     "text": "Collecting package metadata (cdone\n\bdone\n\n\n==> WARNING: A newer version of conda exists. <==\n  current version: 4.8.3\n  latest version: 4.8.4\n\nPlease update conda by running\n\n    $ conda update -n base -c defaults conda\n\n\n\n## Package Plan ##\n\n  environment location: /Users/ivanne/miniconda3/envs/py37-jupyter-parqet\n\n  added / updated specs:\n    - pyspark\n\n\nThe following packages will be downloaded:\n\n    package                    |            build\n    ---------------------------|-----------------\n    py4j-0.10.9                |     pyh9f0ad1d_0         179 KB  conda-forge\n    pyspark-3.0.0              |             py_0       194.7 MB  conda-forge\n    ------------------------------------------------------------\n                                           Total:       194.9 MB\n\nThe following NEW packages will be INSTALLED:\n\n  py4j               conda-forge/noarch::py4j-0.10.9-pyh9f0ad1d_0\n  pyspark            conda-forge/noarch::pyspark-3.0.0-py_0\n\n\n\nDownloading and Extracting Packages\npy4j-0.10.9          | 179 KB    | ##################################### | 100% \npyspark-3.0.0        | 194.7 MB  | ##################################### | 100% \nPreparing transaction:done\nVerifying transactiondone\nExecutidone\n"
    }
   ],
   "source": [
    "!conda install -y pyspark"
   ]
  },
  {
   "cell_type": "code",
   "execution_count": null,
   "metadata": {},
   "outputs": [],
   "source": []
  }
 ],
 "metadata": {
  "kernelspec": {
   "display_name": "Python 3",
   "language": "python",
   "name": "python3"
  },
  "language_info": {
   "codemirror_mode": {
    "name": "ipython",
    "version": 3
   },
   "file_extension": ".py",
   "mimetype": "text/x-python",
   "name": "python",
   "nbconvert_exporter": "python",
   "pygments_lexer": "ipython3",
   "version": "3.7.8-final"
  }
 },
 "nbformat": 4,
 "nbformat_minor": 4
}